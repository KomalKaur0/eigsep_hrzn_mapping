{
 "cells": [
  {
   "cell_type": "markdown",
   "id": "94eb2b29",
   "metadata": {},
   "source": [
    "calibrating lines"
   ]
  },
  {
   "cell_type": "code",
   "execution_count": null,
   "id": "1c937943",
   "metadata": {},
   "outputs": [],
   "source": [
    "import numpy as np\n",
    "import matplotlib.pylab as plt\n",
    "from eigsep_terrain.marjum_dem import MarjumDEM as DEM\n",
    "import eigsep_terrain as et\n",
    "import eigsep_terrain.utils as etu\n",
    "import tqdm\n",
    "import healpy\n",
    "from scipy.linalg import lstsq\n",
    "from image_class import Image\n"
   ]
  },
  {
   "cell_type": "code",
   "execution_count": null,
   "id": "73b651f0",
   "metadata": {},
   "outputs": [],
   "source": [
    "CACHE_FILE = 'marjum_dem.npz'\n",
    "dem = DEM(cache_file=CACHE_FILE)"
   ]
  },
  {
   "cell_type": "code",
   "execution_count": null,
   "id": "c7e4817d",
   "metadata": {},
   "outputs": [],
   "source": [
    "# load image data\n",
    "img0 = Image(pathname='/Users/komalkaur/Desktop/eigsep_stuff/hrzn_mapping/crosshair-imgs/img0.PNG', \n",
    "            label='img0', lat=39.247880, lon=-113.402623, alt=1698.0, roll=6.5, heading=88,\n",
    "            angle_up=84.6, ver_weight=1/4, hor_weight=1/16, dis_weight=23*47)\n",
    "\n",
    "img1 = Image(pathname='/Users/komalkaur/Desktop/eigsep_stuff/hrzn_mapping/crosshair-imgs/img1.PNG', \n",
    "            label='img1', lat=39.247441, lon=-113.402693, alt=1659.0, roll=3.6, heading=358,\n",
    "            angle_up=49.0, ver_weight=1/24, hor_weight=1/8, dis_weight=13*14)\n",
    "\n",
    "img2 = Image(pathname='/Users/komalkaur/Desktop/eigsep_stuff/hrzn_mapping/crosshair-imgs/img2.PNG', \n",
    "            label='img2', lat=39.247484, lon=-113.402730, alt=1695.0, roll=1.2, heading=352,\n",
    "            angle_up=50, ver_weight=1/7, hor_weight=1/22, dis_weight=12*16)\n",
    "\n",
    "img3 = Image(pathname='/Users/komalkaur/Desktop/eigsep_stuff/hrzn_mapping/crosshair-imgs/img3.PNG', \n",
    "            label='img3', lat=39.247797, lon=-113.402905, alt=1713.0, roll=30.3, heading=166,\n",
    "            angle_up=84.8, ver_weight=1/32, hor_weight=1/6, dis_weight=11*10)\n",
    "\n",
    "img4 = Image(pathname='/Users/komalkaur/Desktop/eigsep_stuff/hrzn_mapping/crosshair-imgs/img4.PNG', \n",
    "            label='img4', lat=39.247566, lon=-113.402991, alt=1746.0, roll=31.5, heading=150,\n",
    "            angle_up=85.0, ver_weight=1/11, hor_weight=1/57, dis_weight=9*13)\n",
    "\n",
    "img5 = Image(pathname='/Users/komalkaur/Desktop/eigsep_stuff/hrzn_mapping/crosshair-imgs/img5.PNG', \n",
    "            label='img5', lat=39.248385, lon=-113.401491, alt=1761.0, roll=7.0, heading=236,\n",
    "            angle_up=13.0, ver_weight=1/7, hor_weight=1/5, dis_weight=4*6)\n",
    "\n",
    "img6 = Image(pathname='/Users/komalkaur/Desktop/eigsep_stuff/hrzn_mapping/crosshair-imgs/img6.PNG', \n",
    "            label='img6', lat=39.248631, lon=-113.404227, alt=1834.0, roll=-6.5, heading=133,\n",
    "            angle_up=-17.3, ver_weight=1/15, hor_weight=1/9, dis_weight=9*10)\n",
    "\n",
    "img7 = Image(pathname='/Users/komalkaur/Desktop/eigsep_stuff/hrzn_mapping/crosshair-imgs/img7.PNG', \n",
    "            label='img7', lat=39.248400, lon=-113.401572, alt=1759.0, roll=0.8, heading=240,\n",
    "            angle_up=17.4, ver_weight=1/18, hor_weight=1/8, dis_weight=6*7)\n"
   ]
  },
  {
   "cell_type": "code",
   "execution_count": null,
   "id": "d4afa07a",
   "metadata": {},
   "outputs": [],
   "source": [
    "# enus for each photo\n",
    "enu0 = dem.latlon_to_enu(img0.lat, img0.lon, img0.alt)\n",
    "enu1 = dem.latlon_to_enu(img1.lat, img1.lon, img1.alt)\n",
    "enu2 = dem.latlon_to_enu(img2.lat, img2.lon, img2.alt)\n",
    "enu3 = dem.latlon_to_enu(img3.lat, img3.lon, img3.alt)\n",
    "enu4 = dem.latlon_to_enu(img4.lat, img4.lon, img4.alt)\n",
    "enu5 = dem.latlon_to_enu(img5.lat, img5.lon, img5.alt)\n",
    "enu6 = dem.latlon_to_enu(img6.lat, img6.lon, img6.alt)\n",
    "enu7 = dem.latlon_to_enu(img7.lat, img7.lon, img7.alt)\n",
    "enus = [enu0, enu1, enu2, enu3, enu4, enu5, enu6, enu7]\n",
    "imgs = [img0, img1, img2, img3, img4, img5, img6, img7]\n"
   ]
  },
  {
   "cell_type": "code",
   "execution_count": null,
   "id": "48bba319",
   "metadata": {},
   "outputs": [],
   "source": [
    "# ploting functions\n",
    "\n",
    "def color_str2tup(s):\n",
    "    r, g, b = s[0:2], s[2:4], s[4:6]\n",
    "    return tuple(map(lambda x: int(x, base=16) / 255, (r, g, b)))\n",
    "\n",
    "def plot_img(ax, data, res=dem.res, xlabel=True, ylabel=True,\n",
    "             colorbar=False, cmap='terrain', erng=None, nrng=None, **kw):\n",
    "    '''Plot maps with standard format.'''\n",
    "    if nrng is None:\n",
    "        nrng = (0, data.shape[0] * res)\n",
    "    if erng is None:\n",
    "        erng = (0, data.shape[1] * res)\n",
    "    extent = erng + nrng\n",
    "    im = ax.imshow(data, extent=extent, cmap=cmap, origin='lower', interpolation='nearest', **kw)\n",
    "    if colorbar:\n",
    "        plt.colorbar(im)\n",
    "    if xlabel:\n",
    "        ax.set_xlabel('East [m]')\n",
    "    if ylabel:\n",
    "        ax.set_ylabel('North [m]')\n",
    "\n",
    "def hrzn_angle_plotter(idx):\n",
    "    '''plot horizon angles for a given enu idx'''\n",
    "    # calculate horizon angles\n",
    "    horizon_angles = []\n",
    "    horizon_pnts = []\n",
    "    pnt = enus[idx]\n",
    "    delta_h = 0 #m\n",
    "    _pnt = pnt + np.array([0, 0, delta_h])\n",
    "    horizon_angles, horizon_pnts = dem.calc_horizon(*_pnt, n_az=512)\n",
    "\n",
    "    # plot horizon angles\n",
    "    fig, ax = plt.subplots()\n",
    "    plot_img(ax, dem.data, dem.res)\n",
    "    # for k in horizon_angles: # type: ignore\n",
    "        # color = ax._get_lines.get_next_color()\n",
    "    plt.plot(horizon_pnts[1], horizon_pnts[0], '.-') # type: ignore\n",
    "    plt.plot([enus[idx][0]], [enus[idx][1]], '+')\n",
    "    _ = plt.title(f'Horizon Points for img{idx}')\n",
    "\n",
    "    return horizon_pnts, horizon_angles\n"
   ]
  },
  {
   "cell_type": "code",
   "execution_count": null,
   "id": "80fc787b",
   "metadata": {},
   "outputs": [],
   "source": [
    "# calibrating angles and pixels using img5\n",
    "pnts, angles = hrzn_angle_plotter(5)\n"
   ]
  },
  {
   "cell_type": "code",
   "execution_count": null,
   "id": "924bd6ce",
   "metadata": {},
   "outputs": [],
   "source": [
    "# find the edge of the canyon using jump in radius\n",
    "norths = pnts[0] - enus[5][1] # type: ignore\n",
    "easts = pnts[1] - enus[5][0] # type: ignore\n",
    "\n",
    "# az_ = np.arctan2(easts, norths)\n",
    "\n",
    "# rads = np.sqrt(easts**2 + norths**2)\n",
    "# fig, ax = plt.subplots()\n",
    "# # ax.scatter(np.rad2deg(az_), rads)\n",
    "# # ax.scatter(easts, norths)\n",
    "# # ax.plot(0,0, 'x')\n",
    "\n",
    "# ax.plot(np.arange(512)*360/512, angles) # azimuth vs angle up to horizon\n",
    "\n",
    "# ax.set_xlim(-130, -120)\n"
   ]
  },
  {
   "cell_type": "markdown",
   "id": "488def1e",
   "metadata": {},
   "source": [
    "plot above has a horizon shape that does not match the corresponding photo."
   ]
  },
  {
   "cell_type": "markdown",
   "id": "704128e1",
   "metadata": {},
   "source": [
    "trying to correct enus to see if that fixes horizon shape (brute-force approach)"
   ]
  },
  {
   "cell_type": "code",
   "execution_count": null,
   "id": "224b1f69",
   "metadata": {},
   "outputs": [],
   "source": [
    "# # find variation in enu to match horizon shape with photo\n",
    "# def hrzn_angle_finder(idx, delta_east, delta_north, delta_up):\n",
    "#     '''plot horizon angles for a given enu idx'''\n",
    "#     # calculate horizon angles\n",
    "#     horizon_angles = []\n",
    "#     horizon_pnts = []\n",
    "#     center = imgs[idx].heading\n",
    "#     pnt0 = enus[idx]\n",
    "#     pnt = enus[idx] + [delta_east, delta_north, delta_up]\n",
    "#     horizon_angles, horizon_pnts = dem.calc_horizon(*pnt, n_az=512)\n",
    "#     horizon_angles0, horizon_pnts0 = dem.calc_horizon(*pnt0, n_az=512)\n",
    "#     fig, ax = plt.subplots()\n",
    "\n",
    "\n",
    "#     ax.vlines([center-69/2, center, center+69/2, center-60, center+60], 0, 1, color='lightgreen', linestyles='dashed')\n",
    "\n",
    "#     ax.plot(np.arange(512)*360/512, horizon_angles0, color='lightsteelblue', \n",
    "#             label=f'original enu \\neast: {np.round(pnt0[0])} \\nnorth: {np.round(pnt0[1])}')               \n",
    "   \n",
    "#     ax.plot(np.arange(512)*360/512, horizon_angles, color = 'deeppink', \n",
    "#             label=f'east: {np.round(pnt[0])} (delta: {delta_east}) \\nup: {np.round(pnt[2])} (delta: {delta_up}) \\nnorth: {np.round(pnt[1])} (delta: {delta_north})')\n",
    "    \n",
    "#     plt.legend(loc='best')\n",
    "#     plt.show()\n",
    "\n",
    "# #     return horizon_angles, horizon_pnts\n"
   ]
  },
  {
   "cell_type": "markdown",
   "id": "7c1f3429",
   "metadata": {},
   "source": [
    "getting indices for canyon features to calibrate with\n"
   ]
  },
  {
   "cell_type": "code",
   "execution_count": null,
   "id": "0f2c88da",
   "metadata": {},
   "outputs": [],
   "source": [
    "# # check which side of the dip is the correct point to calibrate with\n",
    "# fig, ax = plt.subplots()\n",
    "# plot_img(ax, dem.data, dem.res)\n",
    "# plt.plot(easts[325:350], norths[325:350], '.-') # type: ignore\n",
    "# plt.plot([enus[5][0]], [enus[5][1]], '+')\n",
    "# _ = plt.title(f'isolating calibration points for img{5}: canyon feature')"
   ]
  },
  {
   "cell_type": "code",
   "execution_count": null,
   "id": "72e9fe39",
   "metadata": {},
   "outputs": [],
   "source": [
    "# # narrow down to exact index of canyon feature to calibrate to, guessing around 335\n",
    "# print(rads[335:338], angles[335:338])  # shows the jump is between index 335 and 336, gonna use 336\n",
    "\n",
    "# cal_idx = 336\n",
    "# cal_rad = rads[cal_idx]\n",
    "# cal_angle = angles[cal_idx] # radians\n",
    "# cal_east = easts[cal_idx]\n",
    "# cal_north = norths[cal_idx]\n"
   ]
  },
  {
   "cell_type": "code",
   "execution_count": null,
   "id": "a44baf0d",
   "metadata": {},
   "outputs": [],
   "source": [
    "# # find the 0 of crosshair on the canyon: intersection of trajectory and canyon line\n",
    "# fig, ax = plt.subplots()\n",
    "# plot_img(ax, dem.data, dem.res)\n",
    "# enu_idx = 5\n",
    "# az = np.deg2rad(imgs[enu_idx].heading)  # type: ignore\n",
    "# pitch = np.deg2rad(imgs[enu_idx].angle_up)  # type: ignore\n",
    "# r = np.linspace(0, 300, len(easts))\n",
    "# e = r * np.sin(az) * np.cos(pitch) + enus[enu_idx][0]\n",
    "# n = r * np.cos(az) * np.cos(pitch) + enus[enu_idx][1]\n",
    "# ax.plot(easts[325:350], norths[325:350], '.-')\n",
    "# line, = ax.plot([enus[enu_idx][0]], [enus[enu_idx][1]], '+', label='aaron')\n",
    "# ax.plot(e, n, color=line.get_color(), alpha=0.7, label='crosshair trajectory')\n",
    "\n",
    "\n",
    "# ax.set_xlim(1500-250, 2500-250)\n",
    "# ax.set_ylim(1500, 2500)\n",
    "# plt.legend(loc=\"best\")\n"
   ]
  },
  {
   "cell_type": "markdown",
   "id": "d02bf7eb",
   "metadata": {},
   "source": [
    "applying indices to find a calibration from pixels to angles"
   ]
  },
  {
   "cell_type": "code",
   "execution_count": null,
   "id": "836a7df5",
   "metadata": {},
   "outputs": [],
   "source": [
    "# # find where horizon and crosshair intersect\n",
    "# cross_idx = 335\n",
    "# cross_east = easts[cross_idx]\n",
    "# cross_north = norths[cross_idx]\n",
    "# cross_angle = angles[cross_idx] # radians\n"
   ]
  },
  {
   "cell_type": "code",
   "execution_count": null,
   "id": "6409601d",
   "metadata": {},
   "outputs": [],
   "source": [
    "# # angles for calibration\n",
    "# angle_diff = cal_angle - cross_angle    # radians\n",
    "# pixel_diff = 56\n",
    "# pix_per_angle = pixel_diff/angle_diff\n",
    "# angle_per_pix = angle_diff/pixel_diff\n"
   ]
  },
  {
   "cell_type": "markdown",
   "id": "c75efa13",
   "metadata": {},
   "source": [
    "calibrating in the lab"
   ]
  },
  {
   "cell_type": "code",
   "execution_count": 30,
   "id": "dd73d0fa",
   "metadata": {},
   "outputs": [],
   "source": [
    "angle_diff = 2 * np.arctan(4/38)\n",
    "angle_diff2 = 2 * np.arctan(4.5/30)\n",
    "\n",
    "pixel_diff = 200\n",
    "pixel_diff2 = 175\n",
    "\n",
    "angle_per_pix = angle_diff / pixel_diff\n",
    "angle_per_pix2 = angle_diff2 / pixel_diff2\n",
    "\n",
    "angle_per_pix = np.mean((angle_per_pix, angle_per_pix2))\n",
    "# angle_per_pix = 0.0007639913301538154   # brute force correction from mapping.ipynb\n"
   ]
  },
  {
   "cell_type": "markdown",
   "id": "006d8ffd",
   "metadata": {},
   "source": [
    "correcting each trajectory"
   ]
  },
  {
   "cell_type": "code",
   "execution_count": null,
   "id": "81e4d464",
   "metadata": {},
   "outputs": [],
   "source": [
    "# all photos and trajectories on canyon prior to angle calibration\n",
    "fig, ax = plt.subplots()\n",
    "plot_img(ax, dem.data, dem.res)\n",
    "for enu_idx in range(len(enus)):\n",
    "    az = np.deg2rad(imgs[enu_idx].heading)  # type: ignore\n",
    "    pitch = np.deg2rad(imgs[enu_idx].angle_up)  # type: ignore\n",
    "    r = np.array([0, 300])\n",
    "    easts = r * np.sin(az) * np.cos(pitch) + enus[enu_idx][0]\n",
    "    norths = r * np.cos(az) * np.cos(pitch) + enus[enu_idx][1]\n",
    "\n",
    "    line, = ax.plot([enus[enu_idx][0]], [enus[enu_idx][1]], '+', label=enu_idx)\n",
    "    ax.plot(easts, norths, color=line.get_color(), alpha=0.7)\n",
    "\n",
    "\n",
    "ax.set_xlim(1500-250, 2500-250)\n",
    "ax.set_ylim(1500, 2500)\n",
    "plt.legend(loc=\"best\")\n"
   ]
  },
  {
   "cell_type": "markdown",
   "id": "5bebc585",
   "metadata": {},
   "source": [
    "calibrate the lines\n",
    "- find the distance from the vertical crosshair bar (1/img.hor_weight) and convert to angles\n",
    "- decide for each photo to add/subtract this angle from the trajectory\n",
    "- plot them all again"
   ]
  },
  {
   "cell_type": "code",
   "execution_count": null,
   "id": "b57d8c88",
   "metadata": {},
   "outputs": [],
   "source": [
    "enus[5]"
   ]
  },
  {
   "cell_type": "code",
   "execution_count": null,
   "id": "9ec67574",
   "metadata": {},
   "outputs": [],
   "source": [
    "# corrections: positive means antenna was to the left of the crosshair (adding angle ccw)\n",
    "corrs = np.zeros(8)\n",
    "\n",
    "for idx in range(len(imgs)):\n",
    "    corrs[idx] = (1 / imgs[idx].hor_weight) * angle_per_pix * -1  #type: ignore\n",
    "\n"
   ]
  },
  {
   "cell_type": "code",
   "execution_count": null,
   "id": "5f0a0ce5",
   "metadata": {},
   "outputs": [],
   "source": [
    "# all photos and trajectories on canyon after angle calibration\n",
    "fig, ax = plt.subplots()\n",
    "plot_img(ax, dem.data, dem.res)\n",
    "for enu_idx in range(len(enus)):\n",
    "    az = np.deg2rad(imgs[enu_idx].heading) + corrs[enu_idx]  # type: ignore\n",
    "    pitch = np.deg2rad(imgs[enu_idx].angle_up)  # type: ignore\n",
    "    r = np.array([0, 300])\n",
    "    easts = r * np.sin(az) * np.cos(pitch) + enus[enu_idx][0]\n",
    "    norths = r * np.cos(az) * np.cos(pitch) + enus[enu_idx][1]\n",
    "\n",
    "    line, = ax.plot([enus[enu_idx][0]], [enus[enu_idx][1]], '+', label=enu_idx)\n",
    "    ax.plot(easts, norths, color=line.get_color(), alpha=0.7)\n",
    "\n",
    "ax.set_title('after angle correction')\n",
    "ax.set_xlim(1500-250, 2500-250)\n",
    "ax.set_ylim(1500, 2500)\n",
    "plt.legend(loc=\"best\")\n"
   ]
  },
  {
   "cell_type": "code",
   "execution_count": null,
   "id": "03433f41",
   "metadata": {},
   "outputs": [],
   "source": [
    "# all photos and trajectories on canyon after angle calibration\n",
    "fig, ax = plt.subplots()\n",
    "# plot_img(ax, dem.data, dem.res)\n",
    "corrected_easts = [0,0,0,0,0,0,0,0]  # array to store the corrected easts\n",
    "corrected_norths = [0,0,0,0,0,0,0,0]  # array to store the corrected norths\n",
    "corrected_ups = [0,0,0,0,0,0,0,0]  # array to store the corrected ups\n",
    "\n",
    "for enu_idx in range(len(enus)):\n",
    "    az = np.deg2rad(imgs[enu_idx].heading)  # type: ignore\n",
    "    az_corr = np.deg2rad(imgs[enu_idx].heading) + corrs[enu_idx]  # type: ignore\n",
    "    pitch = np.deg2rad(imgs[enu_idx].angle_up)  # type: ignore\n",
    "    r = np.array([0, 300])\n",
    "    up_ray = r + np.array([imgs[enu_idx].alt, imgs[enu_idx].alt])\n",
    "    easts = r * np.sin(az) * np.cos(pitch) + enus[enu_idx][0]\n",
    "    easts_corr = r * np.sin(az_corr) * np.cos(pitch) + enus[enu_idx][0]\n",
    "    norths = r * np.cos(az) * np.cos(pitch) + enus[enu_idx][1]\n",
    "    norths_corr = r * np.cos(az_corr) * np.cos(pitch) + enus[enu_idx][1]\n",
    "\n",
    "    corrected_easts[enu_idx] = easts_corr\n",
    "    corrected_norths[enu_idx] = norths_corr\n",
    "    corrected_ups[enu_idx] = up_ray * np.sin(pitch)\n",
    "\n",
    "    line, = ax.plot([enus[enu_idx][0]], [enus[enu_idx][1]], '+', label=enu_idx)\n",
    "    ax.plot(easts_corr, norths_corr, color=line.get_color(), alpha=0.7)\n",
    "    ax.plot(easts, norths, color=line.get_color(), alpha=0.7, linestyle='dashed', label='pre calibration')\n",
    "\n",
    "ax.set_xlim(1450, 1800)\n",
    "ax.set_ylim(1900, 2200)\n",
    "plt.legend(loc=\"best\")"
   ]
  },
  {
   "cell_type": "markdown",
   "id": "ff65d574",
   "metadata": {},
   "source": [
    "finding where the lines kind of would intersect (not using weighting since the lines were calibrated)"
   ]
  },
  {
   "cell_type": "markdown",
   "id": "f63edcae",
   "metadata": {},
   "source": [
    "mean of corrected trajectories. not good since the ray length was arbitrary? can use this as a prior for least squares"
   ]
  },
  {
   "cell_type": "code",
   "execution_count": null,
   "id": "5ffdde34",
   "metadata": {},
   "outputs": [],
   "source": [
    "# rough approx: mean\n",
    "mean_east = np.mean(corrected_easts)\n",
    "mean_north = np.mean(corrected_norths)\n",
    "mean_up = np.mean(corrected_ups)\n",
    "\n",
    "mean_enu = np.array([mean_east, mean_north, mean_up])\n"
   ]
  },
  {
   "cell_type": "code",
   "execution_count": null,
   "id": "f5eb9e6f",
   "metadata": {},
   "outputs": [],
   "source": [
    "# all photos and trajectories on canyon after angle calibration with mean center\n",
    "fig, ax = plt.subplots()\n",
    "# plot_img(ax, dem.data, dem.res)\n",
    "\n",
    "for enu_idx in range(len(enus)):\n",
    "    line, = ax.plot([enus[enu_idx][0]], [enus[enu_idx][1]], '+', label=enu_idx)\n",
    "    ax.plot(corrected_easts[enu_idx], corrected_norths[enu_idx], color=line.get_color(), alpha=0.7)\n",
    "ax.plot(mean_east, mean_north, 'o', label='avg center')\n",
    "\n",
    "ax.set_xlim(1450, 1800)\n",
    "ax.set_ylim(1900, 2200)\n",
    "plt.legend(loc=\"best\")\n"
   ]
  },
  {
   "cell_type": "markdown",
   "id": "e9924f5b",
   "metadata": {},
   "source": [
    "least squares\n",
    "\n",
    "find point that minimizes sum of squared distance from each ray: $ \\text{min} \\sum_i d(x, \\vec v_i) $\n",
    "\n",
    "distance is found by projections: $d(x, Lᵢ) = ||(x - pᵢ) - ((x - pᵢ) · dᵢ)dᵢ||$\n",
    "\n",
    "projection matrix A: $Aᵢ = (I - dᵢdᵢᵀ)$\n",
    "\n",
    "least squares: $\\text{min} Σᵢ ||(I - dᵢdᵢᵀ)(x - pᵢ)||²$\n",
    "\n",
    "b: $bᵢ = (I - dᵢdᵢᵀ)pᵢ$"
   ]
  },
  {
   "cell_type": "code",
   "execution_count": null,
   "id": "a9f79d82",
   "metadata": {},
   "outputs": [],
   "source": [
    "def proj_matrix(): \n",
    "    A_ = []\n",
    "    b_ = []\n",
    "    \n",
    "    for idx in range(len(imgs)):\n",
    "        p = np.array([corrected_easts[idx][0], corrected_norths[idx][0], corrected_ups[idx][0]])        # type: ignore\n",
    "        endpt = np.array([corrected_easts[idx][1], corrected_norths[idx][1], corrected_ups[idx][1]])    # type: ignore\n",
    "        d = endpt - p\n",
    "        d_i = d / np.linalg.norm(d)\n",
    "\n",
    "        A_i = np.eye(3) - np.outer(d_i, d_i)\n",
    "        b_i = A_i @ p\n",
    "\n",
    "        A_.append(A_i)\n",
    "        b_.append(b_i)\n",
    "\n",
    "    A = np.vstack(A_)\n",
    "    b = np.concatenate(b_)\n",
    "\n",
    "    return A, b\n"
   ]
  },
  {
   "cell_type": "code",
   "execution_count": null,
   "id": "c38f06ff",
   "metadata": {},
   "outputs": [],
   "source": [
    "A, b = proj_matrix()\n",
    "x, residuals, rank, s = lstsq(A, b)\n",
    "\n",
    "dof = A.shape[0] - 3\n",
    "chi2_r = residuals / dof\n"
   ]
  },
  {
   "cell_type": "code",
   "execution_count": null,
   "id": "7c8c5e5e",
   "metadata": {},
   "outputs": [],
   "source": [
    "x"
   ]
  },
  {
   "cell_type": "code",
   "execution_count": null,
   "id": "ede6ca7d",
   "metadata": {},
   "outputs": [],
   "source": [
    "chi2_r"
   ]
  },
  {
   "cell_type": "code",
   "execution_count": null,
   "id": "ec2d8f2c",
   "metadata": {},
   "outputs": [],
   "source": [
    "# all photos and trajectories on canyon after angle calibration with mean center\n",
    "fig, ax = plt.subplots()\n",
    "plt.grid()\n",
    "# plot_img(ax, dem.data, dem.res)\n",
    "\n",
    "for enu_idx in range(len(enus)):\n",
    "    line, = ax.plot([enus[enu_idx][0]], [enus[enu_idx][1]], '+', label=enu_idx)\n",
    "    ax.plot(corrected_easts[enu_idx], corrected_norths[enu_idx], color=line.get_color(), alpha=0.7)\n",
    "ax.plot(mean_east, mean_north, 'o', label='avg center :)')\n",
    "ax.plot(x[0], x[1], 'o', label='lstsq center :(')\n",
    "\n",
    "ax.set_xlim(1450, 1800)\n",
    "ax.set_ylim(1900, 2200)\n",
    "plt.legend(loc=\"best\")\n"
   ]
  },
  {
   "cell_type": "code",
   "execution_count": null,
   "id": "6936231c",
   "metadata": {},
   "outputs": [],
   "source": [
    "new_angle_per_pix = 0.0007639913301538154\n"
   ]
  }
 ],
 "metadata": {
  "kernelspec": {
   "display_name": "base",
   "language": "python",
   "name": "python3"
  },
  "language_info": {
   "codemirror_mode": {
    "name": "ipython",
    "version": 3
   },
   "file_extension": ".py",
   "mimetype": "text/x-python",
   "name": "python",
   "nbconvert_exporter": "python",
   "pygments_lexer": "ipython3",
   "version": "3.12.2"
  }
 },
 "nbformat": 4,
 "nbformat_minor": 5
}
