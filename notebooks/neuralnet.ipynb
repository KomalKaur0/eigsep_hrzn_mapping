{
 "cells": [
  {
   "cell_type": "markdown",
   "id": "1f0132aa",
   "metadata": {},
   "source": [
    "use a neural net to pull out the horizon from an image and fit parameters to it to find the appropriate locations"
   ]
  },
  {
   "cell_type": "code",
   "execution_count": 1,
   "id": "b6928b78",
   "metadata": {},
   "outputs": [],
   "source": [
    "import numpy as np\n",
    "import matplotlib.pylab as plt\n",
    "from eigsep_terrain.marjum_dem import MarjumDEM as DEM\n",
    "import eigsep_terrain as et\n",
    "import eigsep_terrain.utils as etu\n",
    "import tqdm\n",
    "import healpy\n",
    "from matplotlib.image import imread\n",
    "from matplotlib import transforms\n",
    "from image_class import Image"
   ]
  },
  {
   "cell_type": "code",
   "execution_count": 2,
   "id": "18f8f455",
   "metadata": {},
   "outputs": [],
   "source": [
    "# load image data\n",
    "img0 = Image(pathname='/Users/komalkaur/Desktop/eigsep_stuff/hrzn_mapping/crosshair-imgs/img0.PNG', \n",
    "            label='img0', lat=39.247880, lon=-113.402623, alt=1698.0, roll=6.5, heading=88,\n",
    "            angle_up=84.6, ver_weight=1/4, hor_weight=1/16, dis_weight=23*47)\n",
    "\n",
    "img1 = Image(pathname='/Users/komalkaur/Desktop/eigsep_stuff/hrzn_mapping/crosshair-imgs/img1.PNG', \n",
    "            label='img1', lat=39.247441, lon=-113.402693, alt=1659.0, roll=3.6, heading=358,\n",
    "            angle_up=49.0, ver_weight=1/24, hor_weight=1/8, dis_weight=13*14)\n",
    "\n",
    "img2 = Image(pathname='/Users/komalkaur/Desktop/eigsep_stuff/hrzn_mapping/crosshair-imgs/img2.PNG', \n",
    "            label='img2', lat=39.247484, lon=-113.402730, alt=1695.0, roll=1.2, heading=352,\n",
    "            angle_up=50, ver_weight=1/7, hor_weight=1/22, dis_weight=12*16)\n",
    "\n",
    "img3 = Image(pathname='/Users/komalkaur/Desktop/eigsep_stuff/hrzn_mapping/crosshair-imgs/img3.PNG', \n",
    "            label='img3', lat=39.247797, lon=-113.402905, alt=1713.0, roll=30.3, heading=166,\n",
    "            angle_up=84.8, ver_weight=1/32, hor_weight=1/6, dis_weight=11*10)\n",
    "\n",
    "img4 = Image(pathname='/Users/komalkaur/Desktop/eigsep_stuff/hrzn_mapping/crosshair-imgs/img4.PNG', \n",
    "            label='img4', lat=39.247566, lon=-113.402991, alt=1746.0, roll=31.5, heading=150,\n",
    "            angle_up=85.0, ver_weight=1/11, hor_weight=1/57, dis_weight=9*13)\n",
    "\n",
    "img5 = Image(pathname='/Users/komalkaur/Desktop/eigsep_stuff/hrzn_mapping/crosshair-imgs/img5.PNG', \n",
    "            label='img5', lat=39.248385, lon=-113.401491, alt=1761.0, roll=7.0, heading=236,\n",
    "            angle_up=13.0, ver_weight=1/7, hor_weight=1/5, dis_weight=4*6)\n",
    "\n",
    "img6 = Image(pathname='/Users/komalkaur/Desktop/eigsep_stuff/hrzn_mapping/crosshair-imgs/img6.PNG', \n",
    "            label='img6', lat=39.248631, lon=-113.404227, alt=1834.0, roll=-6.5, heading=133,\n",
    "            angle_up=-17.3, ver_weight=1/15, hor_weight=1/9, dis_weight=9*10)\n",
    "\n",
    "img7 = Image(pathname='/Users/komalkaur/Desktop/eigsep_stuff/hrzn_mapping/crosshair-imgs/img7.PNG', \n",
    "            label='img7', lat=39.248400, lon=-113.401572, alt=1759.0, roll=0.8, heading=240,\n",
    "            angle_up=17.4, ver_weight=1/18, hor_weight=1/8, dis_weight=6*7)\n"
   ]
  },
  {
   "cell_type": "code",
   "execution_count": 6,
   "id": "90aaa007",
   "metadata": {},
   "outputs": [],
   "source": [
    "CACHE_FILE = 'marjum_dem.npz'\n",
    "dem = DEM(cache_file=CACHE_FILE)\n"
   ]
  },
  {
   "cell_type": "code",
   "execution_count": 7,
   "id": "1c35d5ec",
   "metadata": {},
   "outputs": [],
   "source": [
    "enu0 = dem.latlon_to_enu(img0.lat, img0.lon, img0.alt)\n",
    "enu1 = dem.latlon_to_enu(img1.lat, img1.lon, img1.alt)\n",
    "enu2 = dem.latlon_to_enu(img2.lat, img2.lon, img2.alt)\n",
    "enu3 = dem.latlon_to_enu(img3.lat, img3.lon, img3.alt)\n",
    "enu4 = dem.latlon_to_enu(img4.lat, img4.lon, img4.alt)\n",
    "enu5 = dem.latlon_to_enu(img5.lat, img5.lon, img5.alt)\n",
    "enu6 = dem.latlon_to_enu(img6.lat, img6.lon, img6.alt)\n",
    "enu7 = dem.latlon_to_enu(img7.lat, img7.lon, img7.alt)"
   ]
  },
  {
   "cell_type": "code",
   "execution_count": null,
   "id": "f4d67630",
   "metadata": {},
   "outputs": [],
   "source": [
    "angle_per_pix = 0.0007639913301538154   # rad per pix from mapping.ipynb"
   ]
  },
  {
   "cell_type": "markdown",
   "id": "6b325f96",
   "metadata": {},
   "source": [
    "steps\n",
    "\n",
    "1. fix the rotation of the photo\n",
    "2. pull out the horizon shape\n",
    "3. parameter fit to see which combination of photo enus would result in a matching horizon_pnts"
   ]
  },
  {
   "cell_type": "code",
   "execution_count": 12,
   "id": "46aca6fc",
   "metadata": {},
   "outputs": [],
   "source": [
    "def plot_img(ax, data, res=dem.res, xlabel=True, ylabel=True,\n",
    "             colorbar=False, cmap='terrain', erng=None, nrng=None, **kw):\n",
    "    '''Plot maps with standard format.'''\n",
    "    if nrng is None:\n",
    "        nrng = (0, data.shape[0] * res)\n",
    "    if erng is None:\n",
    "        erng = (0, data.shape[1] * res)\n",
    "    extent = erng + nrng\n",
    "    im = ax.imshow(data, extent=extent, cmap=cmap, origin='lower', interpolation='nearest', **kw)\n",
    "    if colorbar:\n",
    "        plt.colorbar(im)\n",
    "    if xlabel:\n",
    "        ax.set_xlabel('East [m]')\n",
    "    if ylabel:\n",
    "        ax.set_ylabel('North [m]')\n",
    "\n",
    "def enu_hrzn_angle_plotter(east, north, up):\n",
    "    '''plot horizon angles for a given enu idx'''\n",
    "    # calculate horizon angles\n",
    "    horizon_angles = []\n",
    "    horizon_pnts = []\n",
    "    pnt = np.array([east, north, up])\n",
    "    delta_h = 0 #m\n",
    "    _pnt = pnt + np.array([0, 0, delta_h])\n",
    "    horizon_angles, horizon_pnts = dem.calc_horizon(*_pnt, n_az=512)\n",
    "\n",
    "    # plot horizon angles\n",
    "    fig, ax = plt.subplots()\n",
    "    plot_img(ax, dem.data, dem.res)\n",
    "    # for k in horizon_angles: # type: ignore\n",
    "        # color = ax._get_lines.get_next_color()\n",
    "    plt.plot(horizon_pnts[1], horizon_pnts[0], '.-') # type: ignore\n",
    "    plt.plot(east, north, '+')\n",
    "    _ = plt.title(f'Horizon Points for east: {np.round(east)}, north: {np.round(north)}, up: {np.round(up)}')\n",
    "\n",
    "    return horizon_pnts"
   ]
  },
  {
   "cell_type": "markdown",
   "id": "9100e2df",
   "metadata": {},
   "source": []
  },
  {
   "cell_type": "code",
   "execution_count": null,
   "id": "73462557",
   "metadata": {},
   "outputs": [],
   "source": []
  }
 ],
 "metadata": {
  "kernelspec": {
   "display_name": "base",
   "language": "python",
   "name": "python3"
  },
  "language_info": {
   "codemirror_mode": {
    "name": "ipython",
    "version": 3
   },
   "file_extension": ".py",
   "mimetype": "text/x-python",
   "name": "python",
   "nbconvert_exporter": "python",
   "pygments_lexer": "ipython3",
   "version": "3.12.2"
  }
 },
 "nbformat": 4,
 "nbformat_minor": 5
}
